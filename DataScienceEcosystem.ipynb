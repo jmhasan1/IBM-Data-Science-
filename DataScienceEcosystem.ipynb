{
 "cells": [
  {
   "cell_type": "markdown",
   "id": "2c57d39b-b993-4367-a2be-42b9061c6974",
   "metadata": {},
   "source": [
    "<H1>Data Science Tools and Ecosystem</H1>"
   ]
  },
  {
   "attachments": {},
   "cell_type": "markdown",
   "id": "3da518f8-929c-4958-938d-6a76b6fcfed3",
   "metadata": {},
   "source": [
    "<h3>In this notebook, Data Science Tools and Ecosystems are summarized.</h3>\n",
    "<h3><b>Objectives:<b></h3>\n",
    "<ul>\n",
    "    <li> Popular Languages for Data Science</li>\n",
    "    <li>Popular Data Science libraries</li>\n",
    "    <li>Data Science Tools</li>\n",
    "    <li>Python Arithmetic Expressions</li>\n",
    "</ul>"
   ]
  },
  {
   "cell_type": "markdown",
   "id": "fcd2de26-5277-4872-ba80-088b0f9bb7b5",
   "metadata": {},
   "source": [
    "### Some of the popular languages that Data Scientists use are:\n",
    "<ol>\n",
    "    <li>Python</li>\n",
    "    <li>R</li>\n",
    "    <li>SQL</li>\n",
    "    <li>Scala</li>\n",
    "    <li>JavaScript</li>\n",
    "</ol>"
   ]
  },
  {
   "cell_type": "markdown",
   "id": "174cd111-048f-4cde-83d9-0c11f337e684",
   "metadata": {},
   "source": [
    "### Some of the commonly used libraries used by Data Scientists include:\n",
    "<ol>\n",
    "    <li>Scikit-Learn</li>\n",
    "    <li>Numpy</li>\n",
    "    <li>Pandas</li>\n",
    "    <li>TensorFlow</li>\n",
    "    <li>Matplotlib</li>\n",
    "    <li>SciPy</li>\n",
    "    <li>PyTorch</li>\n",
    "</ol>"
   ]
  },
  {
   "cell_type": "markdown",
   "id": "5f48fc6e-5975-4564-a640-e682fd1626e1",
   "metadata": {},
   "source": [
    "<table>\n",
    "    <tr>\n",
    "        <th>Data Science Tools</th>\n",
    "    </tr>\n",
    "    <tr>\n",
    "        <td>Jupyter Notebooks</td>  \n",
    "    </tr>\n",
    "    <tr>\n",
    "        <td>R Studio</td>\n",
    "    </tr>\n",
    "    <tr>\n",
    "        <td>\n",
    "            Spyder\n",
    "        </td>\n",
    "    </tr>\n",
    "</table>"
   ]
  },
  {
   "cell_type": "markdown",
   "id": "5f8bc11e-10cb-45d5-9550-4b955a342c7e",
   "metadata": {},
   "source": [
    "<h3>Below are a few examples of evaluating arithmetic expressions in Python</h3>\n",
    "<ul>\n",
    "    <li>print(5+7)  will perform the arithmetic operation of addition and print out result as output</li>\n",
    "    <li>print(5+7*4)  will perform the arithmetic operation of addition as well as multiplication to evaluate the arithmetic expression and print out the result as output</li>\n",
    "</ul>\n"
   ]
  },
  {
   "cell_type": "code",
   "execution_count": 2,
   "id": "f2966811-f6f9-433a-b0ef-a7314d7708ab",
   "metadata": {},
   "outputs": [
    {
     "data": {
      "text/plain": [
       "17"
      ]
     },
     "execution_count": 2,
     "metadata": {},
     "output_type": "execute_result"
    }
   ],
   "source": [
    "(3*4)+5\n",
    "# This a simple arithmetic expression to mutiply then add integers"
   ]
  },
  {
   "cell_type": "code",
   "execution_count": 7,
   "id": "6ee17990-7846-4ba5-b2bd-6e9d30193084",
   "metadata": {},
   "outputs": [
    {
     "name": "stdout",
     "output_type": "stream",
     "text": [
      "Hours= 3\n",
      "Minutes= 20\n"
     ]
    }
   ],
   "source": [
    "# This will convert 200 minutes to hours by diving by 60\n",
    "min = 200\n",
    "h=min//60\n",
    "m=min%60\n",
    "print(\"Hours=\",h)\n",
    "print(\"Minutes=\",m)"
   ]
  },
  {
   "cell_type": "markdown",
   "id": "9cd6eefe-7b53-435f-9c54-6fb6d59ef503",
   "metadata": {},
   "source": [
    "<h2>Author:</h2>\n",
    "<ti>Jahid Hasan</ti>"
   ]
  },
  {
   "cell_type": "code",
   "execution_count": null,
   "id": "c6f1b22f-1fba-431c-9671-2f874e92d6a3",
   "metadata": {},
   "outputs": [],
   "source": []
  }
 ],
 "metadata": {
  "kernelspec": {
   "display_name": "Python 3 (ipykernel)",
   "language": "python",
   "name": "python3"
  },
  "language_info": {
   "codemirror_mode": {
    "name": "ipython",
    "version": 3
   },
   "file_extension": ".py",
   "mimetype": "text/x-python",
   "name": "python",
   "nbconvert_exporter": "python",
   "pygments_lexer": "ipython3",
   "version": "3.11.7"
  }
 },
 "nbformat": 4,
 "nbformat_minor": 5
}
